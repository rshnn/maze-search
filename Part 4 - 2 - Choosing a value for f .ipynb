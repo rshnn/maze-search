{
 "cells": [
  {
   "cell_type": "code",
   "execution_count": 1,
   "metadata": {},
   "outputs": [],
   "source": [
    "import numpy as np \n",
    "import pandas as pd\n",
    "import matplotlib.pyplot as plt\n",
    "import seaborn as sns\n",
    "\n",
    "from maze import Maze\n",
    "from position import Position\n",
    "import search as Search\n",
    "import search_fire as SearchFire\n",
    "import utilities as Util\n",
    "import fire_analysis as FireAnalysis\n"
   ]
  },
  {
   "cell_type": "code",
   "execution_count": null,
   "metadata": {},
   "outputs": [],
   "source": []
  },
  {
   "cell_type": "code",
   "execution_count": 2,
   "metadata": {},
   "outputs": [
    {
     "name": "stdout",
     "output_type": "stream",
     "text": [
      "Generating 110 mazes.\n",
      "Completed maze generation.\n"
     ]
    }
   ],
   "source": [
    "dim=20\n",
    "p = 0.3\n",
    "q = 0.4\n",
    "f_list = np.linspace(1, 50, 11)\n",
    "\n",
    "maze_dict = FireAnalysis.build_mazes_for_fire_const(dim, p, q, f_list, number_of_valid_mazes_per_config=10)"
   ]
  },
  {
   "cell_type": "code",
   "execution_count": 3,
   "metadata": {},
   "outputs": [
    {
     "name": "stdout",
     "output_type": "stream",
     "text": [
      "Working f: 1.0\t\t 1 of 11\n",
      "Working f: 5.9\t\t 2 of 11\n",
      "Working f: 10.8\t\t 3 of 11\n",
      "Working f: 15.7\t\t 4 of 11\n",
      "Working f: 20.6\t\t 5 of 11\n",
      "Working f: 25.5\t\t 6 of 11\n",
      "Working f: 30.4\t\t 7 of 11\n",
      "Working f: 35.3\t\t 8 of 11\n",
      "Working f: 40.2\t\t 9 of 11\n",
      "Working f: 45.1\t\t 10 of 11\n",
      "Working f: 50.0\t\t 11 of 11\n",
      "\n",
      "f: (percent success, avg path length, avg nodes expanded, avg max fringe size)\n"
     ]
    },
    {
     "data": {
      "text/plain": [
       "{1.0: (0.6, 23.6, 162.9, 23.1),\n",
       " 5.9: (0.7, 30.9, 156.4, 20.7),\n",
       " 10.8: (0.7, 28.1, 172.3, 22.0),\n",
       " 15.700000000000001: (0.8, 34.4, 173.7, 19.4),\n",
       " 20.6: (1.0, 41.4, 179.0, 23.1),\n",
       " 25.5: (1.0, 41.8, 165.8, 20.7),\n",
       " 30.400000000000002: (0.9, 37.1, 170.6, 21.6),\n",
       " 35.300000000000004: (0.8, 33.8, 154.1, 21.5),\n",
       " 40.2: (0.9, 37.3, 179.7, 19.6),\n",
       " 45.1: (1.0, 42.4, 188.9, 20.8),\n",
       " 50.0: (1.0, 42.8, 160.3, 20.2)}"
      ]
     },
     "execution_count": 3,
     "metadata": {},
     "output_type": "execute_result"
    }
   ],
   "source": [
    "man_stats = FireAnalysis.evaluate_fire_Astar_const(maze_dict, dim)\n",
    "print(\"\\nf: (percent success, avg path length, avg nodes expanded, avg max fringe size)\")\n",
    "man_stats"
   ]
  },
  {
   "cell_type": "code",
   "execution_count": 13,
   "metadata": {},
   "outputs": [
    {
     "data": {
      "text/plain": [
       "<matplotlib.axes._subplots.AxesSubplot at 0x22030bd5198>"
      ]
     },
     "execution_count": 13,
     "metadata": {},
     "output_type": "execute_result"
    },
    {
     "data": {
      "image/png": "[encoded data removed]",
      "text/plain": [
       "<Figure size 720x576 with 1 Axes>"
      ]
     },
     "metadata": {
      "needs_background": "light"
     },
     "output_type": "display_data"
    }
   ],
   "source": [
    "plt.figure(figsize=(10,8))\n",
    "FireAnalysis.barplot_from_stats(man_stats, 'percent_success', title_prepend=\"A* modified Manhattan\",\n",
    "                                xlabel='heuristic_constant, f')"
   ]
  },
  {
   "cell_type": "code",
   "execution_count": null,
   "metadata": {},
   "outputs": [],
   "source": []
  },
  {
   "cell_type": "code",
   "execution_count": null,
   "metadata": {},
   "outputs": [],
   "source": []
  },
  {
   "cell_type": "code",
   "execution_count": null,
   "metadata": {},
   "outputs": [],
   "source": []
  },
  {
   "cell_type": "code",
   "execution_count": 5,
   "metadata": {},
   "outputs": [
    {
     "name": "stdout",
     "output_type": "stream",
     "text": [
      "Working f: 1.0\t\t 1 of 11\n",
      "Working f: 5.9\t\t 2 of 11\n",
      "Working f: 10.8\t\t 3 of 11\n",
      "Working f: 15.7\t\t 4 of 11\n",
      "Working f: 20.6\t\t 5 of 11\n",
      "Working f: 25.5\t\t 6 of 11\n",
      "Working f: 30.4\t\t 7 of 11\n",
      "Working f: 35.3\t\t 8 of 11\n",
      "Working f: 40.2\t\t 9 of 11\n",
      "Working f: 45.1\t\t 10 of 11\n",
      "Working f: 50.0\t\t 11 of 11\n",
      "\n",
      "f: (percent success, avg path length, avg nodes expanded, avg max fringe size)\n"
     ]
    },
    {
     "data": {
      "text/plain": [
       "{1.0: (0.5, 19.9, 150.7, 22.5),\n",
       " 5.9: (0.8, 34.4, 150.9, 21.0),\n",
       " 10.8: (1.0, 40.2, 179.0, 24.6),\n",
       " 15.700000000000001: (0.9, 37.5, 175.3, 22.7),\n",
       " 20.6: (0.8, 33.2, 160.4, 20.6),\n",
       " 25.5: (0.8, 33.0, 178.0, 21.3),\n",
       " 30.400000000000002: (1.0, 41.0, 169.9, 21.5),\n",
       " 35.300000000000004: (0.7, 29.5, 154.9, 20.1),\n",
       " 40.2: (0.7, 28.5, 176.6, 21.5),\n",
       " 45.1: (1.0, 41.0, 184.7, 21.5),\n",
       " 50.0: (1.0, 42.0, 166.5, 22.8)}"
      ]
     },
     "execution_count": 5,
     "metadata": {},
     "output_type": "execute_result"
    }
   ],
   "source": [
    "euc_stats = FireAnalysis.evaluate_fire_Astar_const(maze_dict, dim, SearchFire.fire_heuristic_3)\n",
    "print(\"\\nf: (percent success, avg path length, avg nodes expanded, avg max fringe size)\")\n",
    "euc_stats"
   ]
  },
  {
   "cell_type": "code",
   "execution_count": 12,
   "metadata": {},
   "outputs": [
    {
     "data": {
      "text/plain": [
       "<matplotlib.axes._subplots.AxesSubplot at 0x22030c7f7b8>"
      ]
     },
     "execution_count": 12,
     "metadata": {},
     "output_type": "execute_result"
    },
    {
     "data": {
      "image/png": "[encoded data removed]",
      "text/plain": [
       "<Figure size 720x576 with 1 Axes>"
      ]
     },
     "metadata": {
      "needs_background": "light"
     },
     "output_type": "display_data"
    }
   ],
   "source": [
    "plt.figure(figsize=(10,8))\n",
    "FireAnalysis.barplot_from_stats(euc_stats, 'percent_success', title_prepend=\"A* modified Euclidean\",\n",
    "                                xlabel='heuristic_constant, f')"
   ]
  },
  {
   "cell_type": "code",
   "execution_count": null,
   "metadata": {},
   "outputs": [],
   "source": []
  },
  {
   "cell_type": "code",
   "execution_count": null,
   "metadata": {},
   "outputs": [],
   "source": []
  }
 ],
 "metadata": {
  "kernelspec": {
   "display_name": "Python 3",
   "language": "python",
   "name": "python3"
  },
  "language_info": {
   "codemirror_mode": {
    "name": "ipython",
    "version": 3
   },
   "file_extension": ".py",
   "mimetype": "text/x-python",
   "name": "python",
   "nbconvert_exporter": "python",
   "pygments_lexer": "ipython3",
   "version": "3.7.3"
  }
 },
 "nbformat": 4,
 "nbformat_minor": 2
}
